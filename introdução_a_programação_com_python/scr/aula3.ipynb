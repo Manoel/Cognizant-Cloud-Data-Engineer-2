{
 "cells": [
  {
   "cell_type": "code",
   "execution_count": 1,
   "metadata": {},
   "outputs": [],
   "source": [
    "a = input('Primeiro valor: ')\n",
    "b = input('Segundo valor: ')"
   ]
  }
 ],
 "metadata": {
  "interpreter": {
   "hash": "25e576e7cac8461c3aba2aa6bb246e5502196327c608493838a4510717809d36"
  },
  "kernelspec": {
   "display_name": "Python 3.9.6 64-bit",
   "language": "python",
   "name": "python3"
  },
  "language_info": {
   "codemirror_mode": {
    "name": "ipython",
    "version": 3
   },
   "file_extension": ".py",
   "mimetype": "text/x-python",
   "name": "python",
   "nbconvert_exporter": "python",
   "pygments_lexer": "ipython3",
   "version": "3.9.6"
  },
  "orig_nbformat": 4
 },
 "nbformat": 4,
 "nbformat_minor": 2
}
