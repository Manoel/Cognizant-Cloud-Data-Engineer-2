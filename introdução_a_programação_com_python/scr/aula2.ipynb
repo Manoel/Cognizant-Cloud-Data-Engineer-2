{
 "cells": [
  {
   "cell_type": "code",
   "execution_count": 1,
   "metadata": {},
   "outputs": [
    {
     "name": "stdout",
     "output_type": "stream",
     "text": [
      "soma: 15. \n",
      "Sub: 5. \n",
      "Multi: 50. \n",
      "div: 2.0. \n",
      "resto: 0\n",
      "soma: 15\n",
      "5\n",
      "50\n",
      "2.0\n",
      "2\n",
      "0\n"
     ]
    }
   ],
   "source": [
    "#a = 10\n",
    "#b = 5\n",
    "a = int(input('Entre com o primeiro valor: '))\n",
    "b = int(input('Entre com o segundo valor: '))\n",
    "soma = a + b\n",
    "subtracao = a - b\n",
    "multiplicacao = a * b\n",
    "divisao = a / b\n",
    "resto = a % b\n",
    "print('soma: {soma}. \\nSub: {subtracao}. \\nMulti: {multiplicacao}. '\n",
    "      '\\ndiv: {divisao}. \\nresto: {resto}'.format(soma=soma, subtracao=subtracao,\n",
    "                                                   multiplicacao=multiplicacao, divisao=divisao,\n",
    "                                                   resto=resto))\n",
    "\n",
    "print('soma: ' + str(soma))\n",
    "print(subtracao)\n",
    "print(multiplicacao)\n",
    "print(divisao)\n",
    "print(int(divisao))\n",
    "print(resto)\n"
   ]
  }
 ],
 "metadata": {
  "interpreter": {
   "hash": "25e576e7cac8461c3aba2aa6bb246e5502196327c608493838a4510717809d36"
  },
  "kernelspec": {
   "display_name": "Python 3.9.6 64-bit",
   "language": "python",
   "name": "python3"
  },
  "language_info": {
   "codemirror_mode": {
    "name": "ipython",
    "version": 3
   },
   "file_extension": ".py",
   "mimetype": "text/x-python",
   "name": "python",
   "nbconvert_exporter": "python",
   "pygments_lexer": "ipython3",
   "version": "3.9.6"
  },
  "orig_nbformat": 4
 },
 "nbformat": 4,
 "nbformat_minor": 2
}
